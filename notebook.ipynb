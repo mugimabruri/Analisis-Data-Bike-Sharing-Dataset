{
  "cells": [
    {
      "cell_type": "markdown",
      "metadata": {
        "id": "H9wADwK78DCz"
      },
      "source": [
        "# Proyek Analisis Data: [Input Nama Dataset]\n",
        "- **Nama:** Mugi Mabruri\n",
        "- **Email:** mugimabruri@gmail.com\n",
        "- **ID Dicoding:** mugi_mabruri"
      ]
    },
    {
      "cell_type": "markdown",
      "metadata": {
        "id": "eE0raob58DC0"
      },
      "source": [
        "## Menentukan Pertanyaan Bisnis"
      ]
    },
    {
      "cell_type": "markdown",
      "metadata": {
        "id": "GmQeQ5YF8DC0"
      },
      "source": [
        "- Pertanyaan 1 : Bagaimana pola penggunaan sepeda berdasarkan musim (season) dan cuaca (weathersit)?\n",
        "\n",
        "- Pertanyaan 2 : Apakah ada hubungan antara suhu (temp) dan jumlah penyewaan sepeda (cnt)?\n"
      ]
    },
    {
      "cell_type": "markdown",
      "metadata": {
        "id": "H-z4QGlO8DC1"
      },
      "source": [
        "## Import Semua Packages/Library yang Digunakan"
      ]
    },
    {
      "cell_type": "code",
      "execution_count": null,
      "metadata": {
        "id": "FVYwaObI8DC1"
      },
      "outputs": [],
      "source": [
        "import pandas as pd\n",
        "import numpy as np\n",
        "import matplotlib.pyplot as plt\n",
        "import seaborn as sns\n",
        "import streamlit as st"
      ]
    },
    {
      "cell_type": "markdown",
      "metadata": {
        "id": "h_Sh51Xy8DC1"
      },
      "source": [
        "## Data Wrangling"
      ]
    },
    {
      "cell_type": "markdown",
      "metadata": {
        "id": "sXU2GBYu8DC1"
      },
      "source": [
        "### Gathering Data"
      ]
    },
    {
      "cell_type": "code",
      "execution_count": null,
      "metadata": {
        "id": "zjCBk1BI8DC1"
      },
      "outputs": [],
      "source": [
        "# Load dataset\n",
        "df = pd.read_csv('day.csv')"
      ]
    },
    {
      "cell_type": "markdown",
      "source": [
        "**Insight:**\n",
        "\n",
        "- Dataset berisi informasi tentang penyewaan sepeda harian.\n",
        "\n",
        "- Terdapat kolom seperti season, weathersit, temp, dan cnt yang relevan untuk analisis."
      ],
      "metadata": {
        "id": "MMi6xGaDkbCi"
      }
    },
    {
      "cell_type": "markdown",
      "metadata": {
        "id": "FHSiqaZp8DC1"
      },
      "source": [
        "### Assessing Data"
      ]
    },
    {
      "cell_type": "code",
      "source": [
        "# Cek informasi dataset\n",
        "df.info()\n",
        "\n",
        "# Cek statistik deskriptif\n",
        "df.describe()\n",
        "\n",
        "# Cek missing values\n",
        "df.isnull().sum()"
      ],
      "metadata": {
        "id": "ax-3tEjc9Cj1"
      },
      "execution_count": null,
      "outputs": []
    },
    {
      "cell_type": "markdown",
      "source": [
        "**Insight:**\n",
        "- Tidak ada missing values dalam dataset.\n",
        "\n",
        "- Dataset memiliki 731 baris dan 16 kolom.\n",
        "\n",
        "- Kolom dteday adalah tanggal, sedangkan kolom lainnya adalah fitur numerik atau kategorikal."
      ],
      "metadata": {
        "id": "7dtxhAPrkhPL"
      }
    },
    {
      "cell_type": "markdown",
      "metadata": {
        "id": "EhN5R4hr8DC1"
      },
      "source": [
        "### Cleaning Data"
      ]
    },
    {
      "cell_type": "code",
      "source": [
        "# Ubah tipe data 'dteday' ke datetime\n",
        "df['dteday'] = pd.to_datetime(df['dteday'])\n",
        "\n",
        "# Mapping nilai musim dan cuaca untuk interpretasi yang lebih mudah\n",
        "season_map = {1: 'Spring', 2: 'Summer', 3: 'Fall', 4: 'Winter'}\n",
        "weather_map = {1: 'Clear', 2: 'Mist', 3: 'Light Snow/Rain', 4: 'Heavy Rain/Snow'}\n",
        "\n",
        "df['season'] = df['season'].map(season_map)\n",
        "df['weathersit'] = df['weathersit'].map(weather_map)"
      ],
      "metadata": {
        "id": "jVnYpprE9Evz"
      },
      "execution_count": null,
      "outputs": []
    },
    {
      "cell_type": "markdown",
      "source": [
        "**Insight:**\n",
        "- Kolom dteday diubah ke tipe datetime untuk memudahkan analisis waktu.\n",
        "\n",
        "- Nilai musim dan cuaca di-mapping ke string untuk interpretasi yang lebih mudah."
      ],
      "metadata": {
        "id": "Q_5ejIqckiSP"
      }
    },
    {
      "cell_type": "markdown",
      "metadata": {
        "id": "gp-Y6wU38DC1"
      },
      "source": [
        "## Exploratory Data Analysis (EDA)"
      ]
    },
    {
      "cell_type": "markdown",
      "metadata": {
        "id": "MW7WF2kr8DC1"
      },
      "source": [
        "### Explore Pola Penggunaan Sepeda Berdasarkan Musim dan Cuaca"
      ]
    },
    {
      "cell_type": "code",
      "execution_count": null,
      "metadata": {
        "id": "e9CQCZjk8DC2"
      },
      "outputs": [],
      "source": [
        "# Group by season dan weathersit\n",
        "season_weather_count = df.groupby(['season', 'weathersit'])['cnt'].sum().reset_index()\n",
        "\n",
        "# Visualisasi\n",
        "plt.figure(figsize=(10, 6))\n",
        "sns.barplot(x='season', y='cnt', hue='weathersit', data=season_weather_count)\n",
        "plt.title('Pola Penggunaan Sepeda Berdasarkan Musim dan Cuaca')\n",
        "plt.xlabel('Musim')\n",
        "plt.ylabel('Jumlah Penyewaan Sepeda')\n",
        "plt.legend(title='Cuaca')\n",
        "plt.show()"
      ]
    },
    {
      "cell_type": "markdown",
      "source": [
        "**Insight:**\n",
        "- Musim gugur (Fall) memiliki jumlah penyewaan sepeda tertinggi.\n",
        "\n",
        "- Cuaca cerah (Clear) mendominasi jumlah penyewaan sepeda di semua musim."
      ],
      "metadata": {
        "id": "th_Lzl2Fkj9O"
      }
    },
    {
      "cell_type": "markdown",
      "source": [],
      "metadata": {
        "id": "XH2JHQSNBqeV"
      }
    },
    {
      "cell_type": "markdown",
      "metadata": {
        "id": "S9bLDB7iB1kC"
      },
      "source": [
        "### Explore Hubungan Antara Suhu dan Jumlah Penyewaan Sepeda"
      ]
    },
    {
      "cell_type": "code",
      "execution_count": null,
      "metadata": {
        "id": "E-l5GUIrB1kE"
      },
      "outputs": [],
      "source": [
        "# Scatter plot suhu vs jumlah penyewaan\n",
        "plt.figure(figsize=(10, 6))\n",
        "sns.scatterplot(x='temp', y='cnt', data=df)\n",
        "plt.title('Hubungan Antara Suhu dan Jumlah Penyewaan Sepeda')\n",
        "plt.xlabel('Suhu (Normalized)')\n",
        "plt.ylabel('Jumlah Penyewaan Sepeda')\n",
        "plt.show()"
      ]
    },
    {
      "cell_type": "markdown",
      "source": [
        "**Insight:**\n",
        "- Terdapat korelasi positif antara suhu dan jumlah penyewaan sepeda.\n",
        "\n",
        "- Semakin tinggi suhu, semakin tinggi jumlah penyewaan sepeda."
      ],
      "metadata": {
        "id": "4Ys7fn-0B1kG"
      }
    },
    {
      "cell_type": "markdown",
      "source": [],
      "metadata": {
        "id": "auqoySs7B1kG"
      }
    },
    {
      "cell_type": "markdown",
      "metadata": {
        "id": "zsyZjqak8DC2"
      },
      "source": [
        "## Visualization & Explanatory Analysis"
      ]
    },
    {
      "cell_type": "markdown",
      "metadata": {
        "id": "HZxOiQ6n8DC2"
      },
      "source": [
        "### Pertanyaan 1: Bagaimana pola penggunaan sepeda berdasarkan musim (season) dan cuaca (weathersit)?"
      ]
    },
    {
      "cell_type": "code",
      "execution_count": null,
      "metadata": {
        "id": "1swJUdAD8DC2"
      },
      "outputs": [],
      "source": [
        "# Visualisasi menggunakan Streamlit\n",
        "st.title('Pola Penggunaan Sepeda Berdasarkan Musim dan Cuaca')\n",
        "st.write('Berikut adalah visualisasi pola penggunaan sepeda berdasarkan musim dan cuaca:')\n",
        "st.bar_chart(season_weather_count.pivot(index='season', columns='weathersit', values='cnt'))"
      ]
    },
    {
      "cell_type": "markdown",
      "metadata": {
        "id": "DgHI7CiU8DC2"
      },
      "source": [
        "### Pertanyaan 2: Apakah ada hubungan antara suhu (temp) dan jumlah penyewaan sepeda (cnt)?"
      ]
    },
    {
      "cell_type": "code",
      "execution_count": null,
      "metadata": {
        "id": "Go0lCsvO8DC2"
      },
      "outputs": [],
      "source": [
        "# Visualisasi menggunakan Streamlit\n",
        "st.title('Hubungan Antara Suhu dan Jumlah Penyewaan Sepeda')\n",
        "st.write('Berikut adalah scatter plot yang menunjukkan hubungan antara suhu dan jumlah penyewaan sepeda:')\n",
        "st.scatter_chart(df[['temp', 'cnt']])"
      ]
    },
    {
      "cell_type": "markdown",
      "source": [
        "**Insight:**\n",
        "- Musim gugur (Fall) adalah musim dengan jumlah penyewaan sepeda tertinggi.\n",
        "\n",
        "- Cuaca cerah (Clear) mendominasi jumlah penyewaan sepeda di semua musim.\n",
        "\n",
        "- Terdapat korelasi positif antara suhu dan jumlah penyewaan sepeda."
      ],
      "metadata": {
        "id": "_0-36BDLklRg"
      }
    },
    {
      "cell_type": "markdown",
      "source": [
        "## Analisis Lanjutan (Opsional)"
      ],
      "metadata": {
        "id": "9y4VUsmcYNZ5"
      }
    },
    {
      "cell_type": "code",
      "source": [],
      "metadata": {
        "id": "iWhnzsJGYUCO"
      },
      "execution_count": null,
      "outputs": []
    },
    {
      "cell_type": "markdown",
      "metadata": {
        "id": "_WeHlCeX8DC2"
      },
      "source": [
        "## Conclusion"
      ]
    },
    {
      "cell_type": "markdown",
      "metadata": {
        "id": "ZTcyR48Y8DC2"
      },
      "source": [
        "\n",
        "\n",
        "```\n",
        "# This is formatted as code\n",
        "```\n",
        "\n",
        "- Conclution pertanyaan 1: Musim gugur (Fall) dan cuaca cerah (Clear) adalah faktor yang paling berpengaruh terhadap tingginya jumlah penyewaan sepeda.\n",
        "\n",
        "- Conclution pertanyaan 2: Terdapat korelasi positif antara suhu dan jumlah penyewaan sepeda, di mana semakin tinggi suhu, semakin tinggi pula jumlah penyewaan sepeda."
      ]
    }
  ],
  "metadata": {
    "kernelspec": {
      "display_name": "Python 3",
      "language": "python",
      "name": "python3"
    },
    "language_info": {
      "name": "python",
      "version": "3.8.0 (tags/v3.8.0:fa919fd, Oct 14 2019, 19:21:23) [MSC v.1916 32 bit (Intel)]"
    },
    "orig_nbformat": 4,
    "vscode": {
      "interpreter": {
        "hash": "972b3bf27e332e87b5379f2791f6ef9dfc79c71018c370b0d7423235e20fe4d7"
      }
    },
    "colab": {
      "provenance": []
    }
  },
  "nbformat": 4,
  "nbformat_minor": 0
}
